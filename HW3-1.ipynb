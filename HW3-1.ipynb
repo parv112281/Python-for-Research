{
 "cells": [
  {
   "cell_type": "markdown",
   "metadata": {},
   "source": [
    "# Using Python for Research Homework: Week 3, Case Study 1\n",
    "\n",
    "A cipher is a secret code for a language.  In this case study, we will explore a cipher that is reported by contemporary Greek historians to have been used by Julius Caesar to send secret messages to generals during times of war."
   ]
  },
  {
   "cell_type": "markdown",
   "metadata": {},
   "source": [
    "### Exercise 1\n",
    "\n",
    "A cipher is a secret code for a language. In this case study, we will explore a cipher that is reported by contemporary Greek historians to have been used by Julius Caesar to send secret messages to generals during times of war.\n",
    "\n",
    "The Caesar cipher shifts each letter of a message to another letter in the alphabet located a fixed distance from the original letter. If our encryption key were `1`, we would shift `h` to the next letter `i`, `i` to the next letter `j`, and so on. If we reach the end of the alphabet, which for us is the space character, we simply loop back to `a`. To decode the message, we make a similar shift, except we move the same number of steps backwards in the alphabet.\n",
    "\n",
    "Over the next five exercises, we will create our own Caesar cipher, as well as a message decoder for this cipher. In this exercise, we will define the alphabet used in the cipher.\n",
    "\n",
    "#### Instructions\n",
    "- The `string` library has been imported. Create a string called `alphabet` consisting of the space character `' '` followed by (concatenated with) the lowercase letters. Note that we're only using the lowercase letters in this exercise."
   ]
  },
  {
   "cell_type": "code",
   "execution_count": 4,
   "metadata": {},
   "outputs": [
    {
     "name": "stdout",
     "output_type": "stream",
     "text": [
      " abcdefghijklmnopqrstuvwxyz\n"
     ]
    }
   ],
   "source": [
    "import string\n",
    "alphabet = ' ' + string.ascii_lowercase\n",
    "print(alphabet)"
   ]
  },
  {
   "cell_type": "markdown",
   "metadata": {},
   "source": [
    "### Exercise 2 \n",
    "\n",
    "In this exercise, we will define a dictionary that specifies the index of each character in `alphabet`.\n",
    "\n",
    "#### Instructions \n",
    "- `alphabet` has already defined in the last exercise. Create a dictionary with keys consisting of the characters in alphabet and values consisting of the numbers from 0 to 26.\n",
    "- Store this as `positions`."
   ]
  },
  {
   "cell_type": "code",
   "execution_count": 5,
   "metadata": {},
   "outputs": [
    {
     "data": {
      "text/plain": [
       "14"
      ]
     },
     "execution_count": 5,
     "metadata": {},
     "output_type": "execute_result"
    }
   ],
   "source": [
    "def alphabet_position(letter):\n",
    "    \"\"\"\n",
    "    Given a letter, return its position in the alphabet.\n",
    "    \"\"\"\n",
    "    if letter in alphabet:\n",
    "        return alphabet.index(letter)\n",
    "    else:\n",
    "        raise ValueError(f\"Invalid letter: {letter}\")\n",
    "\n",
    "alphabet_position('n')\n"
   ]
  },
  {
   "cell_type": "markdown",
   "metadata": {},
   "source": [
    "### Exercise 3\n",
    "\n",
    "In this exercise, we will encode a message with a Caesar cipher.\n",
    "\n",
    "#### Instructions \n",
    "\n",
    "- `alphabet` and `positions` have already been defined in previous exercises. Use `positions` to create an encoded message based on message where each character in message has been shifted forward by 1 position, as defined by positions.\n",
    "- **Note that you can ensure the result remains within 0-26 using result % 27**\n",
    "- Store this as `encoded_message`."
   ]
  },
  {
   "cell_type": "code",
   "execution_count": 9,
   "metadata": {},
   "outputs": [
    {
     "name": "stdout",
     "output_type": "stream",
     "text": [
      "ijanzaobnfajtadbftbs\n"
     ]
    }
   ],
   "source": [
    "message = \"hi my name is caesar\"\n",
    "def caesar_cipher(message, shift):\n",
    "    \"\"\"\n",
    "    Encrypts a message using the Caesar cipher with a given shift.\n",
    "    \"\"\"\n",
    "    encrypted_message = \"\"\n",
    "    for letter in message:\n",
    "        if letter in alphabet:\n",
    "            position = alphabet_position(letter)\n",
    "            new_position = (position + shift) % len(alphabet)\n",
    "            encrypted_message += alphabet[new_position]\n",
    "        else:\n",
    "            encrypted_message += letter\n",
    "    return encrypted_message\n",
    "print(caesar_cipher(message, 1))\n",
    "\n"
   ]
  },
  {
   "cell_type": "markdown",
   "metadata": {},
   "source": [
    "### Exercise 4\n",
    "\n",
    "In this exercise, we will define a function that encodes a message with any given encryption key.\n",
    "\n",
    "#### Instructions \n",
    "- `alphabet`, `position` and `message` remain defined from previous exercises. Define a function `encoding` that takes a message as input as well as an int encryption key `key` to encode a message with the Caesar cipher by shifting each letter in message by key positions.\n",
    "- Your function should return a string consisting of these encoded letters.\n",
    "- Use `encoding` to encode message using `key = 3` and save the result as `encoded_message`.\n",
    "Print `encoded_message`."
   ]
  },
  {
   "cell_type": "code",
   "execution_count": 7,
   "metadata": {},
   "outputs": [
    {
     "name": "stdout",
     "output_type": "stream",
     "text": [
      "klcpacqdphclvcfdhvdu\n"
     ]
    }
   ],
   "source": [
    "encoded_message = caesar_cipher(message, 3)\n",
    "print(encoded_message)"
   ]
  },
  {
   "cell_type": "markdown",
   "metadata": {},
   "source": [
    "### Exercise 5\n",
    "\n",
    "In this exercise, we will decode an encoded message.\n",
    "\n",
    "#### Instructions \n",
    "- Use `encoding` to decode `encoded_message`.\n",
    "- Store your encoded message as `decoded_message`.\n",
    "- Print `decoded_message`. Does this recover your original message?"
   ]
  },
  {
   "cell_type": "code",
   "execution_count": 8,
   "metadata": {},
   "outputs": [
    {
     "name": "stdout",
     "output_type": "stream",
     "text": [
      "hi my name is caesar\n"
     ]
    }
   ],
   "source": [
    "decoded_message = caesar_cipher(encoded_message, -3)\n",
    "print(decoded_message)"
   ]
  }
 ],
 "metadata": {
  "kernelspec": {
   "display_name": "base",
   "language": "python",
   "name": "python3"
  },
  "language_info": {
   "codemirror_mode": {
    "name": "ipython",
    "version": 3
   },
   "file_extension": ".py",
   "mimetype": "text/x-python",
   "name": "python",
   "nbconvert_exporter": "python",
   "pygments_lexer": "ipython3",
   "version": "3.12.8"
  }
 },
 "nbformat": 4,
 "nbformat_minor": 2
}
